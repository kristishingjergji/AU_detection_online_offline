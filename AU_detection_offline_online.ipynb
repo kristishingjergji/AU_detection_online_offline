{
 "cells": [
  {
   "cell_type": "markdown",
   "id": "pkbPaXoRdF6d",
   "metadata": {
    "id": "pkbPaXoRdF6d"
   },
   "source": [
    "# Preparation"
   ]
  },
  {
   "cell_type": "code",
   "execution_count": null,
   "id": "e18413b8-20ce-42cb-a793-37b74693da82",
   "metadata": {
    "id": "e18413b8-20ce-42cb-a793-37b74693da82"
   },
   "outputs": [],
   "source": [
    "# Packages\n",
    "import cv2\n",
    "import urllib.request as urlreq\n",
    "import os\n",
    "import matplotlib.pyplot as plt\n",
    "#from pylab import rcParams\n",
    "import numpy as np\n",
    "import math\n",
    "import dlib\n",
    "import joblib\n",
    "from scipy.spatial import ConvexHull\n",
    "from skimage.morphology.convex_hull import grid_points_in_poly\n",
    "from skimage.feature import hog\n",
    "import warnings\n",
    "warnings.filterwarnings('ignore')"
   ]
  },
  {
   "cell_type": "code",
   "execution_count": null,
   "id": "6993ebee-c408-4850-b1b9-8cbc6fdd00c2",
   "metadata": {},
   "outputs": [],
   "source": [
    "# Files from py-feat \n",
    "predictor=  dlib.shape_predictor(\".../models/shape_predictor_68_face_landmarks.dat\")\n",
    "pca_model = joblib.load(\".../models/hog_pca_all_emotio.joblib\")\n",
    "classifier = joblib.load(\".../models/svm_568.joblib\")\n",
    "scaler = joblib.load(\".../models/hog_scalar_aus.joblib\")"
   ]
  },
  {
   "cell_type": "code",
   "execution_count": null,
   "id": "9b2a6486-5e66-4d37-97e0-81f6de9eb857",
   "metadata": {
    "colab": {
     "base_uri": "https://localhost:8080/"
    },
    "id": "9b2a6486-5e66-4d37-97e0-81f6de9eb857",
    "outputId": "915a9b29-6aea-48e6-ebad-ecd2023f621c"
   },
   "outputs": [],
   "source": [
    "# Files from web application\n",
    "file_prefix = \"paper_data\" # only change this line\n",
    "hogs_filename = file_prefix + \"_hogs.txt\"\n",
    "landmarks_filename = file_prefix + \"_landmarks.txt\"\n",
    "full_filename = file_prefix + \"_big.png\"\n",
    "cropped_filename = file_prefix + \"_small.png\"\n",
    "\n",
    "image = cv2.imread('kristi.jpg')\n",
    "\n",
    "predictor=dlib.shape_predictor(\"models/shape_predictor_68_face_landmarks.dat\")\n",
    "pca_model = joblib.load(\"models/hog_pca_all_emotio.joblib\")\n",
    "classifier = joblib.load(\"models/svm_568.joblib\")\n",
    "scaler = joblib.load(\"models/hog_scalar_aus.joblib\")"
   ]
  },
  {
   "cell_type": "code",
   "execution_count": null,
   "id": "5365ebf9-29b6-4b27-aed2-19c9b83dd458",
   "metadata": {
    "id": "5365ebf9-29b6-4b27-aed2-19c9b83dd458"
   },
   "outputs": [],
   "source": [
    "# Functions\n",
    "def shape_to_np(shape, dtype=\"int\"):\n",
    "    coords = np.zeros((68, 2), dtype=dtype)\n",
    "    for i in range(0, 68):\n",
    "        coords[i] = (shape.part(i).x, shape.part(i).y)\n",
    "    return coords\n",
    "\n",
    "def bounding_box_naive(points):\n",
    "    \"\"\"returns a list containing the bottom left and the top right \n",
    "    points in the sequence\n",
    "    \"\"\"\n",
    "    top_left_x = min(point[0] for point in points)\n",
    "    top_left_y = min(point[1] for point in points)\n",
    "    bot_right_x = max(point[0] for point in points)\n",
    "    bot_right_y = max(point[1] for point in points)\n",
    "\n",
    "    return [(top_left_x, top_left_y), (bot_right_x, bot_right_y)]\n",
    "\n",
    "def getNewCoords(point_x,point_y,upperleftX, upperleftY, lowerrightX, lowerRightY, image_width,image_height):\n",
    "    \"\"\"returns the new coordinates of a point (point_x,point_y), in a cropped bounding box (upperleftX, upperleftY, lowerrightX, lowerRightY)\n",
    "      and rescaled (image_width,image_height) image \n",
    "    \"\"\"\n",
    "\n",
    "    sizeX = lowerrightX - upperleftX\n",
    "    sizeY =  lowerRightY - upperleftY\n",
    "    centerX = (lowerrightX + upperleftX)/2\n",
    "    centerY = (lowerRightY + upperleftY)/2\n",
    "\n",
    "    offsetX = (centerX-sizeX/2)*image_width/sizeX\n",
    "    offsetY = (centerY-sizeY/2)*image_height/sizeY\n",
    "\n",
    "    point_x = point_x * image_width/sizeX - offsetX \n",
    "    point_y = point_y * image_height/sizeY - offsetY\n",
    "    return (point_x,point_y)\n",
    "\n",
    "def rotate(img, angle, landmarks):\n",
    "    width, height = img.shape[:2]\n",
    "    rotation = cv2.getRotationMatrix2D((width/2, height/2), angle, 1)\n",
    "    rotated_img = cv2.warpAffine(img, rotation, (width, height))\n",
    "\n",
    "    rotated_landmarks = np.asarray([np.dot(rotation, landmark.T) for landmark in landmarks])\n",
    "    return rotated_img, rotated_landmarks"
   ]
  },
  {
   "cell_type": "markdown",
   "id": "98644d9f-2eab-467a-8f3c-c67c1d9768aa",
   "metadata": {
    "id": "98644d9f-2eab-467a-8f3c-c67c1d9768aa"
   },
   "source": [
    "# Process starts here "
   ]
  },
  {
   "cell_type": "markdown",
   "id": "p4N2T8CDctoY",
   "metadata": {
    "id": "p4N2T8CDctoY"
   },
   "source": [
    "## Offline\n",
    "#### Detect AUs with input: the image"
   ]
  },
  {
   "cell_type": "code",
   "execution_count": null,
   "id": "5807b71c-a625-4b72-9639-5cb74f670a9e",
   "metadata": {
    "colab": {
     "base_uri": "https://localhost:8080/",
     "height": 302
    },
    "id": "5807b71c-a625-4b72-9639-5cb74f670a9e",
    "outputId": "d6622c22-ca4c-4793-e866-657a49375b1c"
   },
   "outputs": [],
   "source": [
    "# Detect face and landmarks with dlib\n",
    "detector = dlib.get_frontal_face_detector() \n",
    "detect=detector(image,1)\n",
    "shape=predictor(image,detect[0]) #the landmarks in another form\n",
    "shape = shape_to_np(shape)\n",
    "rects = detector(image, 1) # the coordinates of the rectangles of the face\n",
    "\n",
    "# Get the bounding box in the face and plot it\n",
    "for k, d in enumerate(rects):\n",
    "    x = d.left()\n",
    "    y = d.top()\n",
    "    w = d.right()\n",
    "    h = d.bottom()\n",
    "    print(x,y,w,h)\n",
    "    \n",
    "for ix in range(60,0,-1):\n",
    "    #print(ix)\n",
    "    if x-ix > 0:\n",
    "        break\n",
    "for iy in range(60,0,-1):\n",
    "    #print(iy)\n",
    "    if y-iy > 0:\n",
    "        break\n",
    "for iw in range(60,0,-1):\n",
    "    #print(iw)\n",
    "    if w+iw < image.shape[1]:\n",
    "        break\n",
    "for ih in range(60,0,-1):\n",
    "    #print(ih)\n",
    "    if h-ih < image.shape[1]:\n",
    "        break\n",
    "        \n",
    "offine_cropped_image = image[ y:h, x:w]\n",
    "offline_resized_cropped= cv2.resize(offine_cropped_image, (112,112), interpolation = cv2.INTER_AREA)\n",
    "plt.imshow(offline_resized_cropped)"
   ]
  },
  {
   "cell_type": "code",
   "execution_count": null,
   "id": "01042bb2-0782-4dec-8169-d80eba5a5160",
   "metadata": {},
   "outputs": [],
   "source": [
    "plt.imshow(image)"
   ]
  },
  {
   "cell_type": "code",
   "execution_count": null,
   "id": "78743e72-3980-419e-b2db-8e5026b08fee",
   "metadata": {
    "id": "78743e72-3980-419e-b2db-8e5026b08fee"
   },
   "outputs": [],
   "source": [
    "# Cropped and resized landmarks landmarks \n",
    "shape_cropped_resized = []\n",
    "for landmark in range(len(shape)):\n",
    "    x_old = shape[landmark][0]\n",
    "    y_old = shape[landmark][1]\n",
    "    (x_new, y_new) = getNewCoords(x_old, y_old, x, y, w, h, 112, 112 )\n",
    "    shape_cropped_resized.append((x_new, y_new))"
   ]
  },
  {
   "cell_type": "code",
   "execution_count": null,
   "id": "FLXLzKAzjkoV",
   "metadata": {
    "colab": {
     "base_uri": "https://localhost:8080/",
     "height": 286
    },
    "id": "FLXLzKAzjkoV",
    "outputId": "6e171ca6-420a-450f-8aa2-a065a38e0674"
   },
   "outputs": [],
   "source": [
    "plt.imshow(image)"
   ]
  },
  {
   "cell_type": "code",
   "execution_count": null,
   "id": "-7OvCaNUgjXc",
   "metadata": {
    "colab": {
     "base_uri": "https://localhost:8080/",
     "height": 285
    },
    "id": "-7OvCaNUgjXc",
    "outputId": "3647ea99-084e-4ee5-f48c-be184fe5ccfd"
   },
   "outputs": [],
   "source": [
    "resized_cropped_template = offline_resized_cropped.copy()\n",
    "for (x, y) in shape_cropped_resized:\n",
    "    cv2.circle(resized_cropped_template, (int(x), int(y)), 1, (0, 0, 255), -1)\n",
    "plt.imshow(resized_cropped_template)"
   ]
  },
  {
   "cell_type": "code",
   "execution_count": null,
   "id": "7-tYUYtyfV_3",
   "metadata": {
    "id": "7-tYUYtyfV_3"
   },
   "outputs": [],
   "source": [
    "left = [36, 37, 38, 39, 40, 41] # keypoint indices for left eye\n",
    "right = [42, 43, 44, 45, 46, 47] # keypoint indices for right eye\n",
    "points_left = [shape_cropped_resized[i] for i in left]\n",
    "points_right = [shape_cropped_resized[i] for i in right]\n",
    "\n",
    "eye_left = bounding_box_naive(points_left)\n",
    "eye_right = bounding_box_naive(points_right)\n",
    "\n",
    "# Get the eyes coordinates\n",
    "ex1 = eye_left[0][0]\n",
    "ey1 = eye_left[0][1]\n",
    "ew1 = eye_left[1][0] - ex1\n",
    "ed1 = eye_left[0][1] - ey1\n",
    "\n",
    "ex2 = eye_right[0][0]\n",
    "ey2 = eye_right[0][1]\n",
    "ew2 = eye_right[1][0] - ex2\n",
    "ed2 = eye_right[0][1] - ey2\n",
    "\n",
    "left_eye = (ex1,ey1,ew1,ed1)\n",
    "right_eye = (ex2,ey2,ew2,ed2)"
   ]
  },
  {
   "cell_type": "code",
   "execution_count": null,
   "id": "-AsQfGNPfWDj",
   "metadata": {
    "colab": {
     "base_uri": "https://localhost:8080/",
     "height": 285
    },
    "id": "-AsQfGNPfWDj",
    "outputId": "796ca00e-f406-4a42-eeed-51589c0aafbc"
   },
   "outputs": [],
   "source": [
    "# Align\n",
    "left_eye_center = (int(left_eye[0] + (left_eye[2] / 2)), int(left_eye[1] + (left_eye[3] / 2)))\n",
    "left_eye_x = left_eye_center[0] \n",
    "left_eye_y = left_eye_center[1]\n",
    " \n",
    "right_eye_center = (int(right_eye[0] + (right_eye[2]/2)), int(right_eye[1] + (right_eye[3]/2)))\n",
    "right_eye_x = right_eye_center[0]\n",
    "right_eye_y = right_eye_center[1]\n",
    " \n",
    "cv2.circle(resized_cropped_template, left_eye_center, 5, (255, 0, 0) , -1)\n",
    "cv2.circle(resized_cropped_template, right_eye_center, 5, (255, 0, 0) , -1)\n",
    "cv2.line(resized_cropped_template,right_eye_center, left_eye_center,(0,200,200),3)\n",
    "plt.imshow(resized_cropped_template)"
   ]
  },
  {
   "cell_type": "code",
   "execution_count": null,
   "id": "eXylKLU1fWHL",
   "metadata": {
    "colab": {
     "base_uri": "https://localhost:8080/",
     "height": 285
    },
    "id": "eXylKLU1fWHL",
    "outputId": "0b0c3335-8452-4197-fa11-fe72299c8878"
   },
   "outputs": [],
   "source": [
    "delta_x = right_eye_x - left_eye_x\n",
    "delta_y = right_eye_y - left_eye_y\n",
    "angle=np.arctan(delta_y/delta_x)\n",
    "angle = (angle * 180) / np.pi\n",
    "\n",
    "# Width and height of the image\n",
    "h, w = offline_resized_cropped.shape[:2]\n",
    "# Calculating a center point of the image\n",
    "# Integer division \"//\"\" ensures that we receive whole numbers\n",
    "center = (w // 2, h // 2)\n",
    "# Defining a matrix M and calling\n",
    "# cv2.getRotationMatrix2D method\n",
    "M = cv2.getRotationMatrix2D(center, (angle), 1.0)\n",
    "# Applying the rotation to our image using the\n",
    "# cv2.warpAffine method\n",
    "rotated = cv2.warpAffine(offline_resized_cropped, M, (w, h))\n",
    "plt.imshow(rotated)"
   ]
  },
  {
   "cell_type": "code",
   "execution_count": null,
   "id": "rq8knpwhl6QR",
   "metadata": {
    "id": "rq8knpwhl6QR"
   },
   "outputs": [],
   "source": [
    "shape_cropped_resized = np.asarray(shape_cropped_resized)"
   ]
  },
  {
   "cell_type": "code",
   "execution_count": null,
   "id": "uWE96k0kl1Fn",
   "metadata": {
    "id": "uWE96k0kl1Fn"
   },
   "outputs": [],
   "source": [
    "shape_cropped_resized3d = shape_cropped_resized.copy()\n",
    "ones = np.ones((68,1), dtype=int)\n",
    "shape_cropped_resized3d = np.concatenate((shape_cropped_resized3d, ones), axis=1)"
   ]
  },
  {
   "cell_type": "code",
   "execution_count": null,
   "id": "eEC3g2Uml1Il",
   "metadata": {
    "id": "eEC3g2Uml1Il"
   },
   "outputs": [],
   "source": [
    "rotated_landmarks = np.asarray([np.dot(M, landmark.T) for landmark in shape_cropped_resized3d])"
   ]
  },
  {
   "cell_type": "code",
   "execution_count": null,
   "id": "J7WypNmZl1MC",
   "metadata": {
    "colab": {
     "base_uri": "https://localhost:8080/",
     "height": 285
    },
    "id": "J7WypNmZl1MC",
    "outputId": "83a0edc5-e6f7-444d-9608-815ef26b668d"
   },
   "outputs": [],
   "source": [
    "rotated_template = rotated.copy()\n",
    "for (x, y) in rotated_landmarks:\n",
    "    cv2.circle(rotated_template, (int(x), int(y)), 1, (0, 0, 255), -1)\n",
    "plt.imshow(rotated_template)"
   ]
  },
  {
   "cell_type": "code",
   "execution_count": null,
   "id": "RVnsyKl5m0Ro",
   "metadata": {
    "id": "RVnsyKl5m0Ro"
   },
   "outputs": [],
   "source": [
    "hull = ConvexHull(rotated_landmarks)\n",
    "mask = grid_points_in_poly(shape=np.array(rotated).shape, \n",
    "                verts= list(zip(rotated_landmarks[hull.vertices][:,1], rotated_landmarks[hull.vertices][:,0]))) # for some reason verts need to be flipped\n",
    "                               "
   ]
  },
  {
   "cell_type": "code",
   "execution_count": null,
   "id": "ba828532-9ca2-47d1-80e8-364b8d4ffb63",
   "metadata": {},
   "outputs": [],
   "source": [
    "rotated[~mask] = 0\n",
    "plt.imshow(rotated)"
   ]
  },
  {
   "cell_type": "code",
   "execution_count": null,
   "id": "ZYYS_fmwm0bb",
   "metadata": {
    "colab": {
     "base_uri": "https://localhost:8080/",
     "height": 285
    },
    "id": "ZYYS_fmwm0bb",
    "outputId": "5f27562c-9ea9-41c3-a40d-69bb431a2c75"
   },
   "outputs": [],
   "source": [
    "offline_hogs, hogs_im = hog(rotated, orientations=8, pixels_per_cell=(8, 8),\n",
    "                    cells_per_block=(2, 2), visualize=True, multichannel=True)\n",
    "plt.imshow(hogs_im)"
   ]
  },
  {
   "cell_type": "code",
   "execution_count": null,
   "id": "cflSVnQInjl8",
   "metadata": {
    "id": "cflSVnQInjl8"
   },
   "outputs": [],
   "source": [
    "scaled_hogs = scaler.fit_transform(offline_hogs.reshape(-1,1))[0:5408].reshape(1,-1)\n",
    "pca_transformed_frame = pca_model.transform(scaled_hogs)\n",
    "feature_cbd = np.concatenate((pca_transformed_frame, rotated_landmarks.reshape(1,-1)), 1)"
   ]
  },
  {
   "cell_type": "code",
   "execution_count": null,
   "id": "-Kv5xDWOnjpg",
   "metadata": {
    "id": "-Kv5xDWOnjpg"
   },
   "outputs": [],
   "source": [
    "offline_pred_aus = []\n",
    "for keys in classifier:\n",
    "    au_pred = classifier[keys].predict(feature_cbd)\n",
    "    offline_pred_aus.append(au_pred)"
   ]
  },
  {
   "cell_type": "code",
   "execution_count": null,
   "id": "ZlQGISYAnzKz",
   "metadata": {
    "colab": {
     "base_uri": "https://localhost:8080/"
    },
    "id": "ZlQGISYAnzKz",
    "outputId": "d232ab3b-f787-4887-a009-276bab4a2cd5"
   },
   "outputs": [],
   "source": [
    "au_array = [1,2,4,5,6,7,9,10,11,12,14,15,17,20,23,24,25,26,28,43]\n",
    "for i in range(len(offline_pred_aus)):\n",
    "    if offline_pred_aus[i] ==1:\n",
    "        print(au_array[i])"
   ]
  },
  {
   "cell_type": "markdown",
   "id": "oEIfK_yBp_cO",
   "metadata": {
    "id": "oEIfK_yBp_cO"
   },
   "source": [
    "## Combined \n",
    "#### Detect AUs with inputs: landmarks computed on the web application (online) and hogs computed from the image (offline)"
   ]
  },
  {
   "cell_type": "code",
   "execution_count": null,
   "id": "O2gWCoF8oqZs",
   "metadata": {
    "colab": {
     "base_uri": "https://localhost:8080/",
     "height": 37
    },
    "id": "O2gWCoF8oqZs",
    "outputId": "b038ba96-8599-429e-99aa-073db2e83028"
   },
   "outputs": [],
   "source": [
    "cropped_filename"
   ]
  },
  {
   "cell_type": "code",
   "execution_count": null,
   "id": "llydDxS0qh2P",
   "metadata": {
    "id": "llydDxS0qh2P"
   },
   "outputs": [],
   "source": [
    "image_combined = cv2.imread(cropped_filename)"
   ]
  },
  {
   "cell_type": "code",
   "execution_count": null,
   "id": "Xgxg-F_uqxOq",
   "metadata": {
    "colab": {
     "base_uri": "https://localhost:8080/",
     "height": 285
    },
    "id": "Xgxg-F_uqxOq",
    "outputId": "43f46dd3-a940-45a0-ae8b-3e15fc8170f9"
   },
   "outputs": [],
   "source": [
    "plt.imshow(image_combined)"
   ]
  },
  {
   "cell_type": "code",
   "execution_count": null,
   "id": "1RBE3rFzqTuU",
   "metadata": {
    "id": "1RBE3rFzqTuU"
   },
   "outputs": [],
   "source": [
    "offine_hogs_online, offine_hogs_online_im = hog(image_combined, orientations=8, pixels_per_cell=(8, 8),\n",
    "                    cells_per_block=(2, 2), visualize=True, multichannel=True)"
   ]
  },
  {
   "cell_type": "code",
   "execution_count": null,
   "id": "R-eGYAAMrcYY",
   "metadata": {
    "id": "R-eGYAAMrcYY"
   },
   "outputs": [],
   "source": [
    "text_file = open(landmarks_filename, \"r\")\n",
    "lines = text_file.readlines()\n",
    "my_string = lines[0]\n",
    "my_list = my_string.split(\",\")\n",
    "my_float= [float(x) for x in my_list]\n",
    "online_landmarks = np.reshape(my_float, (68, 2))"
   ]
  },
  {
   "cell_type": "code",
   "execution_count": null,
   "id": "avZDsZBaqT1E",
   "metadata": {
    "id": "avZDsZBaqT1E"
   },
   "outputs": [],
   "source": [
    "offine_hogs_online_scaled = scaler.fit_transform(offine_hogs_online.reshape(-1,1))[0:5408].reshape(1,-1)\n",
    "\n",
    "pca_transformed_frame = pca_model.transform(offine_hogs_online_scaled)\n",
    "feature_cbd = np.concatenate((pca_transformed_frame, online_landmarks.reshape(1,-1)), 1)\n",
    "\n",
    "combined_pred_aus = []\n",
    "for keys in classifier:\n",
    "    au_pred = classifier[keys].predict(feature_cbd)\n",
    "    combined_pred_aus.append(au_pred)"
   ]
  },
  {
   "cell_type": "code",
   "execution_count": null,
   "id": "L0fJ9uLyqT9D",
   "metadata": {
    "colab": {
     "base_uri": "https://localhost:8080/"
    },
    "id": "L0fJ9uLyqT9D",
    "outputId": "eb6b8ae0-9afa-4af2-9e83-38ae866ecaeb"
   },
   "outputs": [],
   "source": [
    "au_array = [1,2,4,5,6,7,9,10,11,12,14,15,17,20,23,24,25,26,28,43]\n",
    "for i in range(len(combined_pred_aus)):\n",
    "    if combined_pred_aus[i] ==1:\n",
    "        print (au_array[i])"
   ]
  },
  {
   "cell_type": "markdown",
   "id": "q6yfkwTxo1AZ",
   "metadata": {
    "id": "q6yfkwTxo1AZ"
   },
   "source": [
    "## Online \n",
    "#### Detect AUs from : landmarks and hogs from computed on the web application (online)"
   ]
  },
  {
   "cell_type": "code",
   "execution_count": null,
   "id": "APbJNx7qo2GI",
   "metadata": {
    "id": "APbJNx7qo2GI"
   },
   "outputs": [],
   "source": [
    "text_file_landmarks = open(landmarks_filename, \"r\")\n",
    "lines_landmarks = text_file_landmarks.readlines()\n",
    "string_landmarks = lines_landmarks[0]\n",
    "list_landmarks = string_landmarks.split(\",\")\n",
    "online_landmarks= [float(x) for x in list_landmarks]\n",
    "online_landmarks = np.reshape(online_landmarks, (68, 2))"
   ]
  },
  {
   "cell_type": "code",
   "execution_count": null,
   "id": "skxdwhDOo_dR",
   "metadata": {
    "id": "skxdwhDOo_dR"
   },
   "outputs": [],
   "source": [
    "text_file_hogs = open(hogs_filename, \"r\")\n",
    "lines_hogs = text_file_hogs.readlines()\n",
    "string_hogs = lines_hogs[0]\n",
    "list_hogs = string_hogs.split(\",\")\n",
    "online_hogs = [float(x) for x in list_hogs]\n",
    "online_hogs = np.reshape(online_hogs, (5408,))"
   ]
  },
  {
   "cell_type": "code",
   "execution_count": null,
   "id": "D_ki7SZGo_j_",
   "metadata": {
    "id": "D_ki7SZGo_j_"
   },
   "outputs": [],
   "source": [
    "online_hogs_scaled = scaler.fit_transform(online_hogs.reshape(-1,1))[0:5408].reshape(1,-1)\n",
    "\n",
    "pca_transformed_frame = pca_model.transform(online_hogs_scaled)\n",
    "feature_cbd = np.concatenate((pca_transformed_frame, online_landmarks.reshape(1,-1)), 1)\n",
    "\n",
    "online_pred_aus = []\n",
    "for keys in classifier:\n",
    "    au_pred = classifier[keys].predict(feature_cbd)\n",
    "    online_pred_aus.append(au_pred)"
   ]
  },
  {
   "cell_type": "code",
   "execution_count": null,
   "id": "BKPBM3Gpo_rD",
   "metadata": {
    "id": "BKPBM3Gpo_rD"
   },
   "outputs": [],
   "source": [
    "au_array = [1,2,4,5,6,7,9,10,11,12,14,15,17,20,23,24,25,26,28,43]\n",
    "for i in range(len(online_pred_aus)):\n",
    "    if online_pred_aus[i] ==1:\n",
    "        print(au_array[i])"
   ]
  },
  {
   "cell_type": "code",
   "execution_count": null,
   "id": "E61KjxzUp903",
   "metadata": {
    "id": "E61KjxzUp903"
   },
   "outputs": [],
   "source": [
    "online_small = cv2.imread(cropped_filename)\n",
    "plt.imshow(online_small)"
   ]
  },
  {
   "cell_type": "code",
   "execution_count": null,
   "id": "GCcUdKkCp-Mj",
   "metadata": {
    "id": "GCcUdKkCp-Mj"
   },
   "outputs": [],
   "source": [
    "online_small_template = online_small.copy()\n",
    "for (x, y) in online_landmarks:\n",
    "    cv2.circle(online_small_template, (int(x), int(y)), 1, (0, 0, 255), -1)\n",
    "plt.imshow(online_small_template)"
   ]
  },
  {
   "cell_type": "markdown",
   "id": "wK7KNCk0ryGc",
   "metadata": {
    "id": "wK7KNCk0ryGc"
   },
   "source": [
    "## Results "
   ]
  },
  {
   "cell_type": "code",
   "execution_count": null,
   "id": "AG3xuMp4qBcC",
   "metadata": {
    "id": "AG3xuMp4qBcC"
   },
   "outputs": [],
   "source": [
    "print('----------')\n",
    "print('Predictions online')\n",
    "for i in range(len(online_pred_aus)):\n",
    "    if online_pred_aus[i] ==1:\n",
    "        print(au_array[i])\n",
    "print('----------')\n",
    "print('Predictions offline')\n",
    "for i in range(len(offline_pred_aus)):\n",
    "    if offline_pred_aus[i] ==1:\n",
    "        print(au_array[i])\n",
    "\n",
    "print('----------')\n",
    "print('Predictions combined')\n",
    "for i in range(len(combined_pred_aus)):\n",
    "    if combined_pred_aus[i] ==1:\n",
    "        print(au_array[i])"
   ]
  },
  {
   "cell_type": "code",
   "execution_count": null,
   "id": "RRGfqP-Kv2cX",
   "metadata": {
    "id": "RRGfqP-Kv2cX"
   },
   "outputs": [],
   "source": []
  },
  {
   "cell_type": "code",
   "execution_count": null,
   "id": "rAIgkmTtxpXO",
   "metadata": {
    "id": "rAIgkmTtxpXO"
   },
   "outputs": [],
   "source": []
  },
  {
   "cell_type": "code",
   "execution_count": null,
   "id": "8hl_q6hExpbZ",
   "metadata": {
    "id": "8hl_q6hExpbZ"
   },
   "outputs": [],
   "source": []
  }
 ],
 "metadata": {
  "colab": {
   "collapsed_sections": [],
   "name": "AU_detection.ipynb",
   "provenance": []
  },
  "kernelspec": {
   "display_name": "Python 3",
   "language": "python",
   "name": "python3"
  },
  "language_info": {
   "codemirror_mode": {
    "name": "ipython",
    "version": 3
   },
   "file_extension": ".py",
   "mimetype": "text/x-python",
   "name": "python",
   "nbconvert_exporter": "python",
   "pygments_lexer": "ipython3",
   "version": "3.9.5"
  }
 },
 "nbformat": 4,
 "nbformat_minor": 5
}
